{
 "cells": [
  {
   "cell_type": "code",
   "execution_count": 1,
   "metadata": {},
   "outputs": [],
   "source": [
    "import cv2\n",
    "import mediapipe as mp\n",
    "import numpy as np\n",
    "import keras\n",
    "from tensorflow.keras.models import load_model\n",
    "from playsound import playsound\n"
   ]
  },
  {
   "cell_type": "code",
   "execution_count": 2,
   "metadata": {},
   "outputs": [],
   "source": [
    "def mediapipe_detection(image, model):\n",
    "    image = cv2.cvtColor(image, cv2.COLOR_BGR2RGB)\n",
    "    image.flags.writeable = False\n",
    "    results = model.process(image)\n",
    "    image.flags.writeable = True\n",
    "    image = cv2.cvtColor(image, cv2.COLOR_RGB2BGR)\n",
    "    return image, results"
   ]
  },
  {
   "cell_type": "code",
   "execution_count": 3,
   "metadata": {},
   "outputs": [],
   "source": [
    "mp_pose = mp.solutions.pose\n",
    "mp_drawing = mp.solutions.drawing_utils\n",
    "model = load_model(\"Sit_Well_AlexNet\")\n",
    "def draw_landmarks(image, results):\n",
    "    h, w, _ = image.shape\n",
    "    image = cv2.rectangle(image, (0, 0), (w, h), (0, 0, 0), -1)\n",
    "    mp_drawing.draw_landmarks(\n",
    "        image, results.pose_landmarks, mp_pose.POSE_CONNECTIONS,\n",
    "        mp_drawing.DrawingSpec((0, 0, 255), 2, 2),\n",
    "        mp_drawing.DrawingSpec((0, 255, 0), 2, 2),\n",
    "    )"
   ]
  },
  {
   "cell_type": "code",
   "execution_count": 4,
   "metadata": {},
   "outputs": [
    {
     "name": "stdout",
     "output_type": "stream",
     "text": [
      "1/1 [==============================] - 0s 172ms/step\n",
      "1\n",
      "1/1 [==============================] - 0s 30ms/step\n",
      "1\n",
      "1/1 [==============================] - 0s 27ms/step\n",
      "1\n",
      "1/1 [==============================] - 0s 26ms/step\n",
      "1\n"
     ]
    }
   ],
   "source": [
    "cap = cv2.VideoCapture(0)\n",
    "cap.set(cv2.CAP_PROP_FRAME_WIDTH, 227)\n",
    "cap.set(cv2.CAP_PROP_FRAME_HEIGHT, 227)\n",
    "count = 0\n",
    "with mp_pose.Pose() as pose:\n",
    "    while cap.isOpened():\n",
    "        _, frame = cap.read()\n",
    "\n",
    "        image, results = mediapipe_detection(frame, pose)\n",
    "        draw_landmarks(image, results)\n",
    "\n",
    "        x = image.copy()\n",
    "\n",
    "        x = cv2.resize(x, (227, 227))\n",
    "        x = np.array(x).reshape(-1, 227, 227, 3)\n",
    "\n",
    "        check = model.predict(x)[0].argmax()\n",
    "        print(check)\n",
    "        if check == 1:\n",
    "            count+=1\n",
    "            if count > 2:\n",
    "                playsound('Warning.mp3')\n",
    "        else:\n",
    "            count=0\n",
    "        \n",
    "\n",
    "        cv2.imshow('OpenCV Feed', image)\n",
    "\n",
    "        key = cv2.waitKey(1000) & 0xFF\n",
    "        if key == ord('q') or key == 6:\n",
    "            break\n",
    "\n",
    "    cap.release()\n",
    "    cv2.destroyAllWindows()"
   ]
  },
  {
   "cell_type": "code",
   "execution_count": null,
   "metadata": {},
   "outputs": [],
   "source": []
  }
 ],
 "metadata": {
  "kernelspec": {
   "display_name": "Python 3",
   "language": "python",
   "name": "python3"
  },
  "language_info": {
   "codemirror_mode": {
    "name": "ipython",
    "version": 3
   },
   "file_extension": ".py",
   "mimetype": "text/x-python",
   "name": "python",
   "nbconvert_exporter": "python",
   "pygments_lexer": "ipython3",
   "version": "3.10.7"
  },
  "orig_nbformat": 4,
  "vscode": {
   "interpreter": {
    "hash": "fb4569285eef3a3450cb62085a5b1e0da4bce0af555edc33dcf29baf3acc1368"
   }
  }
 },
 "nbformat": 4,
 "nbformat_minor": 2
}
